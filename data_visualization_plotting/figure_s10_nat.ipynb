{
 "cells": [
  {
   "cell_type": "markdown",
   "id": "de447fc3",
   "metadata": {},
   "source": [
    "Figure S10 C,D in Mahdavi & Siegel (2020) AS&T\n",
    "\n",
    "This figure illustrates thecumulative overall dust recovery and recovery efficiency in terms of filter type.\n",
    "\n",
    "Plot type: Box plot"
   ]
  },
  {
   "cell_type": "code",
   "execution_count": 3,
   "id": "fbf5df81",
   "metadata": {},
   "outputs": [],
   "source": [
    "from matplotlib import pyplot as plt\n",
    "import pandas as pd\n",
    "import numpy as np\n",
    "\n",
    "df = pd.read_excel(r'natl_dataset_summary_collapsed.xlsx')\n",
    "\n",
    "# x-axis positions\n",
    "for f in [1,2,3,4]:\n",
    "    for var in ['M_t_cum', 'tCE_cum']:\n",
    "        locals()['df_%s_%s' %(f,var)] = df[(df['ft'] == f)][var].dropna()"
   ]
  },
  {
   "cell_type": "code",
   "execution_count": 4,
   "id": "a6c29e34",
   "metadata": {},
   "outputs": [
    {
     "data": {
      "image/png": "[encoded data removed]",
      "text/plain": [
       "<Figure size 432x288 with 1 Axes>"
      ]
     },
     "metadata": {
      "needs_background": "light"
     },
     "output_type": "display_data"
    }
   ],
   "source": [
    "########################################\n",
    "#### Figure S10-C - Recovery Amount ####\n",
    "########################################\n",
    "\n",
    "plt.figure()  \n",
    "medianprops = dict(linestyle = '-', linewidth = 0.5, color = 'black')\n",
    "plt.boxplot([df_1_tCE_cum, df_2_tCE_cum, df_3_tCE_cum, df_4_tCE_cum], positions = [1,2,3,4],\n",
    "            boxprops=dict(facecolor= 'grey', color= 'k'),\n",
    "            widths = 0.7, showfliers = True, patch_artist = True, medianprops = medianprops)\n",
    "\n",
    "plt.xticks([])\n",
    "\n",
    "plt.ylim(0, 80)\n",
    "plt.yticks(np.arange(0, 81, step = 20))\n",
    "plt.ylabel('Cumulative Overall Recovery Efficiency (%)', size = 10)\n",
    "plt.tick_params(axis = 'y', direction = 'inout')\n",
    "\n",
    "plt.text(1, -5, 'MERV 8', fontsize = 10, ha='center')\n",
    "plt.text(2, -5, 'MERV 8E', fontsize = 10, ha='center')\n",
    "plt.text(3, -5, 'MERV 11', fontsize = 10, ha='center')\n",
    "plt.text(4, -5, 'MERV 14', fontsize = 10, ha='center')\n",
    "\n",
    "plt.savefig(r'Figure_s10c.jpg', format='jpg', dpi=1600, bbox_inches='tight')"
   ]
  },
  {
   "cell_type": "code",
   "execution_count": 5,
   "id": "3f5ddc85",
   "metadata": {},
   "outputs": [
    {
     "data": {
      "image/png": "[encoded data removed]",
      "text/plain": [
       "<Figure size 432x288 with 1 Axes>"
      ]
     },
     "metadata": {
      "needs_background": "light"
     },
     "output_type": "display_data"
    }
   ],
   "source": [
    "############################################\n",
    "#### Figure S10-D - Recovery Efficiency ####\n",
    "############################################\n",
    "\n",
    "plt.figure()  \n",
    "medianprops = dict(linestyle = '-', linewidth = 0.5, color = 'black')\n",
    "plt.boxplot([df_1_M_t_cum, df_2_M_t_cum, df_3_M_t_cum, df_4_M_t_cum], positions = [1,2,3,4], \n",
    "            boxprops=dict(facecolor= 'grey', color= 'k'), flierprops = dict(marker='o', markerfacecolor='k', markersize=3, markeredgecolor='k'),\n",
    "            widths = 0.7, showfliers = True, patch_artist = True, medianprops = medianprops)\n",
    "\n",
    "plt.xticks([])\n",
    "\n",
    "plt.ylim(0, 12)\n",
    "plt.yticks(np.arange(0, 13, step = 2))\n",
    "plt.ylabel('Cumulative Overall Mass Recovered (g)', size = 10)\n",
    "plt.tick_params(axis = 'y', direction = 'inout')\n",
    "\n",
    "plt.text(1, -0.75, 'MERV 8', fontsize = 10, ha='center')\n",
    "plt.text(2, -0.75, 'MERV 8E', fontsize = 10, ha='center')\n",
    "plt.text(3, -0.75, 'MERV 11', fontsize = 10, ha='center')\n",
    "plt.text(4, -0.75, 'MERV 14', fontsize = 10, ha='center')\n",
    "\n",
    "plt.savefig(r'Figure_s10d.jpg', format='jpg', dpi=1600, bbox_inches='tight')"
   ]
  },
  {
   "cell_type": "markdown",
   "id": "560a8e41",
   "metadata": {},
   "source": [
    "End of Code"
   ]
  },
  {
   "cell_type": "code",
   "execution_count": null,
   "id": "011e0c85",
   "metadata": {},
   "outputs": [],
   "source": []
  }
 ],
 "metadata": {
  "kernelspec": {
   "display_name": "Python 3 (ipykernel)",
   "language": "python",
   "name": "python3"
  },
  "language_info": {
   "codemirror_mode": {
    "name": "ipython",
    "version": 3
   },
   "file_extension": ".py",
   "mimetype": "text/x-python",
   "name": "python",
   "nbconvert_exporter": "python",
   "pygments_lexer": "ipython3",
   "version": "3.9.7"
  }
 },
 "nbformat": 4,
 "nbformat_minor": 5
}
