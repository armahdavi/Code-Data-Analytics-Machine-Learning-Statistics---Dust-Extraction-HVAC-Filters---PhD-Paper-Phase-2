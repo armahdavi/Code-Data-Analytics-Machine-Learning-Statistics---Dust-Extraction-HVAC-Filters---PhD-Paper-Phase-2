{
 "cells": [
  {
   "cell_type": "markdown",
   "id": "27b1254c",
   "metadata": {},
   "source": [
    "Figure S22A,B in Mahdavi & Siegel (2020) AS&T (in Supplemental Information)\n",
    "\n",
    "This figure illustrates the recovery amount and recovery efficiency data by the after-sieve parts of the samplers\n",
    "\n",
    "Plot type: Box plot"
   ]
  },
  {
   "cell_type": "code",
   "execution_count": 9,
   "id": "c4899382",
   "metadata": {},
   "outputs": [],
   "source": [
    "from matplotlib import pyplot as plt\n",
    "import pandas as pd\n",
    "import numpy as np\n",
    "\n",
    "df = pd.read_excel('natl_dataset_summary.xlsx')\n",
    "df = df[df['Cycle_N'] <= 3]\n",
    "\n",
    "# Positions on the x-axis\n",
    "pos_list_1 = [1,2,3]\n",
    "pos_list_2 = [5,6,7]\n",
    "pos_list_3 = [9,10,11]\n",
    "pos_list_4 = [13,14,15]"
   ]
  },
  {
   "cell_type": "code",
   "execution_count": 5,
   "id": "3a3888a6",
   "metadata": {},
   "outputs": [
    {
     "data": {
      "image/png": "[encoded data removed]",
      "text/plain": [
       "<Figure size 432x288 with 1 Axes>"
      ]
     },
     "metadata": {
      "needs_background": "light"
     },
     "output_type": "display_data"
    }
   ],
   "source": [
    "##########################################\n",
    "##### Figure S22-A - Recovery Amount #####\n",
    "##########################################\n",
    "\n",
    "plt.figure()  \n",
    "for f in [1,2,3,4]:\n",
    "    for c in [1,2,3]:\n",
    "        locals()['df_%s_%s' %(f,c)] = df[(df['ft'] == f) & (df['Cycle_N'] == c)]['M_d_cum']\n",
    "             \n",
    "medianprops = dict(linestyle = '-', linewidth = 0.5, color = 'black')\n",
    "\n",
    "box1 = plt.boxplot([df_1_1, df_1_2, df_1_3], positions = pos_list_1,  widths = 0.7, showfliers = False, patch_artist = True, medianprops = medianprops)\n",
    "box2 = plt.boxplot([df_2_1, df_2_2, df_2_3], positions = pos_list_2,  widths = 0.7, showfliers = False, patch_artist = True, medianprops = medianprops)\n",
    "box3 = plt.boxplot([df_3_1, df_3_2, df_3_3], positions = pos_list_3,  widths = 0.7, showfliers = False, patch_artist = True, medianprops = medianprops)\n",
    "box4 = plt.boxplot([df_4_1, df_4_2, df_4_3], positions = pos_list_4,  widths = 0.7, showfliers = False, patch_artist = True, medianprops = medianprops)\n",
    "\n",
    "colors = ['dimgrey', 'tab:red', 'cornflowerblue']\n",
    "\n",
    "for bplot in (box1, box2, box3, box4):\n",
    "    for patch, color in zip(bplot['boxes'], colors):\n",
    "        patch.set_facecolor(color)\n",
    "        \n",
    "plt.ylim(-0.05, 4.05)\n",
    "plt.yticks(np.arange(0, 5, step = 1))\n",
    "plt.ylabel('Mass Recovered: After-Sieve (g)', size = 11)\n",
    "plt.tick_params(axis = 'y', direction = 'inout')\n",
    "\n",
    "plt.text(1.25, -0.25, 'MERV 8', fontsize = 10)\n",
    "plt.text(5.25, -0.25, 'MERV 8E', fontsize = 10)\n",
    "plt.text(9.25, -0.25, 'MERV 11', fontsize = 10)\n",
    "plt.text(13.25, -0.25, 'MERV 14', fontsize = 10)\n",
    "\n",
    "\n",
    "plt.text(0.9, 3.8, 'n=14', fontsize = 7, rotation=90, va='center')\n",
    "plt.text(1.9, 3.8, 'n=13', fontsize = 7, rotation=90, va='center')\n",
    "plt.text(2.9, 3.8, 'n=12', fontsize = 7, rotation=90, va='center')\n",
    "\n",
    "plt.text(4.9, 3.8, 'n=11', fontsize = 7, rotation=90, va='center')\n",
    "plt.text(5.9, 3.8, 'n=10', fontsize = 7, rotation=90, va='center')\n",
    "plt.text(6.9, 3.8, 'n=10', fontsize = 7, rotation=90, va='center')\n",
    "\n",
    "plt.text(8.9, 3.8, 'n=6', fontsize = 7, rotation=90, va='center')\n",
    "plt.text(9.9, 3.8, 'n=6', fontsize = 7, rotation=90, va='center')\n",
    "plt.text(10.9, 3.8, 'n=6', fontsize = 7, rotation=90, va='center')\n",
    "\n",
    "plt.text(12.9, 3.8, 'n=10', fontsize = 7, rotation=90, va='center')\n",
    "plt.text(13.9, 3.8, 'n=10', fontsize = 7, rotation=90, va='center')\n",
    "plt.text(14.9, 3.8, 'n=10', fontsize = 7, rotation=90, va='center')\n",
    "\n",
    "plt.xticks([])\n",
    "\n",
    "plt.savefig(r'Figure3SI_Recovery_as.jpg', format='jpg', dpi=1600, bbox_inches='tight')\n"
   ]
  },
  {
   "cell_type": "code",
   "execution_count": 7,
   "id": "6bba8e4c",
   "metadata": {},
   "outputs": [
    {
     "data": {
      "image/png": "[encoded data removed]",
      "text/plain": [
       "<Figure size 432x288 with 1 Axes>"
      ]
     },
     "metadata": {
      "needs_background": "light"
     },
     "output_type": "display_data"
    }
   ],
   "source": [
    "##############################################\n",
    "##### Figure S22-B - Recovery Efficiency #####\n",
    "##############################################\n",
    "\n",
    "for f in [1,2,3,4]:\n",
    "    for c in [1,2,3]:\n",
    "        locals()['df_%s_%s' %(f,c)] = df[(df['ft'] == f) & (df['Cycle_N'] == c)]['CE_cum'].dropna()\n",
    "\n",
    "plt.figure()                  \n",
    "medianprops = dict(linestyle = '-', linewidth = 0.5, color = 'black')\n",
    "\n",
    "box1 = plt.boxplot([df_1_1, df_1_2, df_1_3], positions = pos_list_1,  widths = 0.7, showfliers = False, patch_artist = True, medianprops = medianprops)\n",
    "box2 = plt.boxplot([df_2_1, df_2_2, df_2_3], positions = pos_list_2,  widths = 0.7, showfliers = False, patch_artist = True, medianprops = medianprops)\n",
    "box3 = plt.boxplot([df_3_1, df_3_2, df_3_3], positions = pos_list_3,  widths = 0.7, showfliers = False, patch_artist = True, medianprops = medianprops)\n",
    "box4 = plt.boxplot([df_4_1, df_4_2, df_4_3], positions = pos_list_4,  widths = 0.7, showfliers = False, patch_artist = True, medianprops = medianprops)\n",
    "\n",
    "colors = ['dimgrey', 'tab:red', 'cornflowerblue']\n",
    "\n",
    "for bplot in (box1, box2, box3, box4):\n",
    "    for patch, color in zip(bplot['boxes'], colors):\n",
    "        patch.set_facecolor(color)\n",
    "        \n",
    "plt.ylim(-1, 81)\n",
    "plt.yticks(np.arange(0, 100, step = 20))\n",
    "plt.ylabel('Recovery Efficiency: After-Sieve (%)', size = 11)\n",
    "plt.tick_params(axis = 'y', direction = 'inout')\n",
    "\n",
    "plt.text(1.25, -5, 'MERV 8', fontsize = 10)\n",
    "plt.text(5.25, -5, 'MERV 8E', fontsize = 10)\n",
    "plt.text(9.25, -5, 'MERV 11', fontsize = 10)\n",
    "plt.text(13.25, -5, 'MERV 14', fontsize = 10)\n",
    "\n",
    "plt.text(0.9, 76, 'n=14', fontsize = 7, rotation=90, va='center')\n",
    "plt.text(1.9, 76, 'n=13', fontsize = 7, rotation=90, va='center')\n",
    "plt.text(2.9, 76, 'n=12', fontsize = 7, rotation=90, va='center')\n",
    "\n",
    "plt.text(4.9, 76, 'n=11', fontsize = 7, rotation=90, va='center')\n",
    "plt.text(5.9, 76, 'n=10', fontsize = 7, rotation=90, va='center')\n",
    "plt.text(6.9, 76, 'n=10', fontsize = 7, rotation=90, va='center')\n",
    "\n",
    "plt.text(8.9, 76, 'n=6', fontsize = 7, rotation=90, va='center')\n",
    "plt.text(9.9, 76, 'n=6', fontsize = 7, rotation=90, va='center')\n",
    "plt.text(10.9, 76, 'n=6', fontsize = 7, rotation=90, va='center')\n",
    "\n",
    "plt.text(12.9, 76, 'n=10', fontsize = 7, rotation=90, va='center')\n",
    "plt.text(13.9, 76, 'n=10', fontsize = 7, rotation=90, va='center')\n",
    "plt.text(14.9, 76, 'n=10', fontsize = 7, rotation=90, va='center')\n",
    "\n",
    "\n",
    "plt.xticks([])\n",
    "    \n",
    "plt.savefig(r'Figure3SI_Efficincy_as.jpg', format='jpg', dpi=1600, bbox_inches='tight')\n",
    "    "
   ]
  },
  {
   "cell_type": "markdown",
   "id": "0f0457d5",
   "metadata": {},
   "source": [
    "End of Code"
   ]
  },
  {
   "cell_type": "code",
   "execution_count": null,
   "id": "75bd9d9d",
   "metadata": {},
   "outputs": [],
   "source": []
  }
 ],
 "metadata": {
  "kernelspec": {
   "display_name": "Python 3 (ipykernel)",
   "language": "python",
   "name": "python3"
  },
  "language_info": {
   "codemirror_mode": {
    "name": "ipython",
    "version": 3
   },
   "file_extension": ".py",
   "mimetype": "text/x-python",
   "name": "python",
   "nbconvert_exporter": "python",
   "pygments_lexer": "ipython3",
   "version": "3.9.7"
  }
 },
 "nbformat": 4,
 "nbformat_minor": 5
}
